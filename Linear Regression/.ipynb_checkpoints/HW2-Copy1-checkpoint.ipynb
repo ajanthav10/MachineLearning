{
 "cells": [
  {
   "cell_type": "code",
   "execution_count": 6,
   "id": "f1870fac",
   "metadata": {},
   "outputs": [
    {
     "name": "stdout",
     "output_type": "stream",
     "text": [
      "[2. 1. 1. 0. 3. 2. 2. 1.]\n"
     ]
    }
   ],
   "source": [
    "import numpy as np\n",
    "import pandas as pd\n",
    "X=[[0,1,1],[0,1,0],[0,0,1],[0,0,0],[1,1,1],[1,1,0],[1,0,1],[1,0,0]]\n",
    "W=np.ones(3,)\n",
    "ans=np.ones(8,)\n",
    "for i in range (len(X)):\n",
    "    ans[i]=np.dot(X[i],W)\n",
    "print(ans)"
   ]
  },
  {
   "cell_type": "code",
   "execution_count": 7,
   "id": "c76f6aaa",
   "metadata": {},
   "outputs": [
    {
     "name": "stdout",
     "output_type": "stream",
     "text": [
      "[3. 2. 2. 1. 2. 1. 1. 0.]\n"
     ]
    }
   ],
   "source": [
    "import numpy as np\n",
    "import pandas as pd\n",
    "X=[[1,1,1],[1,1,0],[1,0,1],[1,0,0],[0,1,1],[0,1,0],[0,0,1],[0,0,0]]\n",
    "W=np.ones(3,)\n",
    "ans=np.ones(8,)\n",
    "for i in range (len(X)):\n",
    "    ans[i]=np.dot(X[i],W)\n",
    "print(ans)"
   ]
  },
  {
   "cell_type": "code",
   "execution_count": 8,
   "id": "559c4f90",
   "metadata": {},
   "outputs": [
    {
     "name": "stdout",
     "output_type": "stream",
     "text": [
      "[1. 0. 0. 2.]\n"
     ]
    }
   ],
   "source": [
    "import numpy as np\n",
    "import pandas as pd\n",
    "X=[[0,1],[0,0],[0,0],[1,1]]\n",
    "W=np.ones(2,)\n",
    "ans=np.ones(4,)\n",
    "for i in range (len(X)):\n",
    "    ans[i]=np.dot(X[i],W)\n",
    "print(ans)"
   ]
  },
  {
   "cell_type": "code",
   "execution_count": 9,
   "id": "58048fb9",
   "metadata": {},
   "outputs": [
    {
     "name": "stdout",
     "output_type": "stream",
     "text": [
      "[0. 2. 2. 2.]\n"
     ]
    }
   ],
   "source": [
    "import numpy as np\n",
    "import pandas as pd\n",
    "X=[[0,0],[1,1],[1,1],[1,1]]\n",
    "W=np.ones(2,)\n",
    "ans=np.ones(4,)\n",
    "for i in range (len(X)):\n",
    "    ans[i]=np.dot(X[i],W)\n",
    "print(ans)"
   ]
  },
  {
   "cell_type": "code",
   "execution_count": 14,
   "id": "683624a5",
   "metadata": {},
   "outputs": [
    {
     "name": "stdout",
     "output_type": "stream",
     "text": [
      "[array([-4]), array([-3]), array([2]), array([-3]), array([-3])]\n"
     ]
    }
   ],
   "source": [
    "import numpy as np\n",
    "import pandas as pd\n",
    "X=[[1,-1,2],[1,1,3],[-1,1,0],[1,2,4],[3,-1,-1]]\n",
    "W=[[-1],[1],[-1]]\n",
    "Y=[[1],[4],[-1],[-2],[0]]\n",
    "ans=[[1],[1],[1],[1],[1]]\n",
    "for i in range (len(X)):\n",
    "    ans[i]=np.dot(X[i],W)\n",
    "print(ans)"
   ]
  },
  {
   "cell_type": "code",
   "execution_count": null,
   "id": "5d49babb",
   "metadata": {},
   "outputs": [],
   "source": []
  }
 ],
 "metadata": {
  "kernelspec": {
   "display_name": "Python 3 (ipykernel)",
   "language": "python",
   "name": "python3"
  },
  "language_info": {
   "codemirror_mode": {
    "name": "ipython",
    "version": 3
   },
   "file_extension": ".py",
   "mimetype": "text/x-python",
   "name": "python",
   "nbconvert_exporter": "python",
   "pygments_lexer": "ipython3",
   "version": "3.10.4"
  }
 },
 "nbformat": 4,
 "nbformat_minor": 5
}
