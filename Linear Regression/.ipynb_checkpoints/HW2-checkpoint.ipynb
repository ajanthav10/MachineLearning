{
 "cells": [
  {
   "cell_type": "code",
   "execution_count": 6,
   "id": "a1b88eba",
   "metadata": {},
   "outputs": [
    {
     "name": "stdout",
     "output_type": "stream",
     "text": [
      "[2. 1. 1. 0. 3. 2. 2. 1.]\n"
     ]
    }
   ],
   "source": [
    "import numpy as np\n",
    "import pandas as pd\n",
    "X=[[0,1,1],[0,1,0],[0,0,1],[0,0,0],[1,1,1],[1,1,0],[1,0,1],[1,0,0]]\n",
    "W=np.ones(3,)\n",
    "ans=np.ones(8,)\n",
    "for i in range (len(X)):\n",
    "    ans[i]=np.dot(X[i],W)\n",
    "print(ans)"
   ]
  },
  {
   "cell_type": "code",
   "execution_count": 7,
   "id": "0a5c16e9",
   "metadata": {},
   "outputs": [
    {
     "name": "stdout",
     "output_type": "stream",
     "text": [
      "[3. 2. 2. 1. 2. 1. 1. 0.]\n"
     ]
    }
   ],
   "source": [
    "import numpy as np\n",
    "import pandas as pd\n",
    "X=[[1,1,1],[1,1,0],[1,0,1],[1,0,0],[0,1,1],[0,1,0],[0,0,1],[0,0,0]]\n",
    "W=np.ones(3,)\n",
    "ans=np.ones(8,)\n",
    "for i in range (len(X)):\n",
    "    ans[i]=np.dot(X[i],W)\n",
    "print(ans)"
   ]
  },
  {
   "cell_type": "code",
   "execution_count": 8,
   "id": "8db389a7",
   "metadata": {},
   "outputs": [
    {
     "name": "stdout",
     "output_type": "stream",
     "text": [
      "[1. 0. 0. 2.]\n"
     ]
    }
   ],
   "source": [
    "import numpy as np\n",
    "import pandas as pd\n",
    "X=[[0,1],[0,0],[0,0],[1,1]]\n",
    "W=np.ones(2,)\n",
    "ans=np.ones(4,)\n",
    "for i in range (len(X)):\n",
    "    ans[i]=np.dot(X[i],W)\n",
    "print(ans)"
   ]
  },
  {
   "cell_type": "code",
   "execution_count": 9,
   "id": "be623a79",
   "metadata": {},
   "outputs": [
    {
     "name": "stdout",
     "output_type": "stream",
     "text": [
      "[0. 2. 2. 2.]\n"
     ]
    }
   ],
   "source": [
    "import numpy as np\n",
    "import pandas as pd\n",
    "X=[[0,0],[1,1],[1,1],[1,1]]\n",
    "W=np.ones(2,)\n",
    "ans=np.ones(4,)\n",
    "for i in range (len(X)):\n",
    "    ans[i]=np.dot(X[i],W)\n",
    "print(ans)"
   ]
  },
  {
   "cell_type": "code",
   "execution_count": 13,
   "id": "6ddd39be",
   "metadata": {},
   "outputs": [
    {
     "ename": "AttributeError",
     "evalue": "'list' object has no attribute 'shape'",
     "output_type": "error",
     "traceback": [
      "\u001b[0;31m---------------------------------------------------------------------------\u001b[0m",
      "\u001b[0;31mAttributeError\u001b[0m                            Traceback (most recent call last)",
      "Cell \u001b[0;32mIn [13], line 6\u001b[0m\n\u001b[1;32m      4\u001b[0m W\u001b[38;5;241m=\u001b[39m[[\u001b[38;5;241m-\u001b[39m\u001b[38;5;241m1\u001b[39m],[\u001b[38;5;241m1\u001b[39m],[\u001b[38;5;241m-\u001b[39m\u001b[38;5;241m1\u001b[39m]]\n\u001b[1;32m      5\u001b[0m Y\u001b[38;5;241m=\u001b[39m[[\u001b[38;5;241m1\u001b[39m],[\u001b[38;5;241m4\u001b[39m],[\u001b[38;5;241m-\u001b[39m\u001b[38;5;241m1\u001b[39m],[\u001b[38;5;241m-\u001b[39m\u001b[38;5;241m2\u001b[39m],[\u001b[38;5;241m0\u001b[39m]]\n\u001b[0;32m----> 6\u001b[0m ans\u001b[38;5;241m=\u001b[39mnp\u001b[38;5;241m.\u001b[39marray(\u001b[43mY\u001b[49m\u001b[38;5;241;43m.\u001b[39;49m\u001b[43mshape\u001b[49m[\u001b[38;5;241m0\u001b[39m])\n\u001b[1;32m      7\u001b[0m \u001b[38;5;28;01mfor\u001b[39;00m i \u001b[38;5;129;01min\u001b[39;00m \u001b[38;5;28mrange\u001b[39m (\u001b[38;5;28mlen\u001b[39m(X)):\n\u001b[1;32m      8\u001b[0m     ans[i]\u001b[38;5;241m=\u001b[39mnp\u001b[38;5;241m.\u001b[39mdot(X[i],W)\n",
      "\u001b[0;31mAttributeError\u001b[0m: 'list' object has no attribute 'shape'"
     ]
    }
   ],
   "source": [
    "import numpy as np\n",
    "import pandas as pd\n",
    "X=[[1,-1,2],[1,1,3],[-1,1,0],[1,2,4],[3,-1,-1]]\n",
    "W=[[-1],[1],[-1]]\n",
    "Y=[[1],[4],[-1],[-2],[0]]\n",
    "ans=[[1],[1],[1],[1],[1]]\n",
    "for i in range (len(X)):\n",
    "    ans[i]=np.dot(X[i],W)\n",
    "print(ans)"
   ]
  },
  {
   "cell_type": "code",
   "execution_count": null,
   "id": "1bfe73c4",
   "metadata": {},
   "outputs": [],
   "source": []
  }
 ],
 "metadata": {
  "kernelspec": {
   "display_name": "Python 3 (ipykernel)",
   "language": "python",
   "name": "python3"
  },
  "language_info": {
   "codemirror_mode": {
    "name": "ipython",
    "version": 3
   },
   "file_extension": ".py",
   "mimetype": "text/x-python",
   "name": "python",
   "nbconvert_exporter": "python",
   "pygments_lexer": "ipython3",
   "version": "3.10.4"
  }
 },
 "nbformat": 4,
 "nbformat_minor": 5
}
