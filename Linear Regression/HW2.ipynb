{
 "cells": [
  {
   "cell_type": "code",
   "execution_count": 6,
   "id": "88afc8d4",
   "metadata": {},
   "outputs": [
    {
     "name": "stdout",
     "output_type": "stream",
     "text": [
      "[2. 1. 1. 0. 3. 2. 2. 1.]\n"
     ]
    }
   ],
   "source": [
    "import numpy as np\n",
    "import pandas as pd\n",
    "X=[[0,1,1],[0,1,0],[0,0,1],[0,0,0],[1,1,1],[1,1,0],[1,0,1],[1,0,0]]\n",
    "W=np.ones(3,)\n",
    "ans=np.ones(8,)\n",
    "for i in range (len(X)):\n",
    "    ans[i]=np.dot(X[i],W)\n",
    "print(ans)"
   ]
  },
  {
   "cell_type": "code",
   "execution_count": 7,
   "id": "105a1a2c",
   "metadata": {},
   "outputs": [
    {
     "name": "stdout",
     "output_type": "stream",
     "text": [
      "[3. 2. 2. 1. 2. 1. 1. 0.]\n"
     ]
    }
   ],
   "source": [
    "import numpy as np\n",
    "import pandas as pd\n",
    "X=[[1,1,1],[1,1,0],[1,0,1],[1,0,0],[0,1,1],[0,1,0],[0,0,1],[0,0,0]]\n",
    "W=np.ones(3,)\n",
    "ans=np.ones(8,)\n",
    "for i in range (len(X)):\n",
    "    ans[i]=np.dot(X[i],W)\n",
    "print(ans)"
   ]
  },
  {
   "cell_type": "code",
   "execution_count": 8,
   "id": "967b58e1",
   "metadata": {},
   "outputs": [
    {
     "name": "stdout",
     "output_type": "stream",
     "text": [
      "[1. 0. 0. 2.]\n"
     ]
    }
   ],
   "source": [
    "import numpy as np\n",
    "import pandas as pd\n",
    "X=[[0,1],[0,0],[0,0],[1,1]]\n",
    "W=np.ones(2,)\n",
    "ans=np.ones(4,)\n",
    "for i in range (len(X)):\n",
    "    ans[i]=np.dot(X[i],W)\n",
    "print(ans)"
   ]
  },
  {
   "cell_type": "code",
   "execution_count": 9,
   "id": "ad4ed0c7",
   "metadata": {},
   "outputs": [
    {
     "name": "stdout",
     "output_type": "stream",
     "text": [
      "[0. 2. 2. 2.]\n"
     ]
    }
   ],
   "source": [
    "import numpy as np\n",
    "import pandas as pd\n",
    "X=[[0,0],[1,1],[1,1],[1,1]]\n",
    "W=np.ones(2,)\n",
    "ans=np.ones(4,)\n",
    "for i in range (len(X)):\n",
    "    ans[i]=np.dot(X[i],W)\n",
    "print(ans)"
   ]
  },
  {
   "cell_type": "code",
   "execution_count": 15,
   "id": "21638a46",
   "metadata": {},
   "outputs": [
    {
     "name": "stdout",
     "output_type": "stream",
     "text": [
      "[array([-4]), array([-3]), array([2]), array([-3]), array([-3])]\n"
     ]
    }
   ],
   "source": [
    "import numpy as np\n",
    "import pandas as pd\n",
    "X=[[1,-1,2],[1,1,3],[-1,1,0],[1,2,4],[3,-1,-1]]\n",
    "W=[[-1],[1],[-1]]\n",
    "Y=[[1],[4],[-1],[-2],[0]]\n",
    "ans=[[1],[1],[1],[1],[1]]\n",
    "for i in range (len(X)):\n",
    "    ans[i]=np.dot(X[i],W)\n",
    "print(ans)"
   ]
  },
  {
   "cell_type": "code",
   "execution_count": null,
   "id": "bdeff950",
   "metadata": {},
   "outputs": [],
   "source": []
  },
  {
   "cell_type": "code",
   "execution_count": 16,
   "id": "e31cbf8b",
   "metadata": {},
   "outputs": [],
   "source": [
    "def mean_square_error(X:np.ndarray, Y:np.ndarray, current_W:np.ndarray):\n",
    "    square_error = 0 \n",
    "    Y_pred = np.empty_like(Y)\n",
    "\t\n",
    "\n",
    "    for i in range(len(X)):\n",
    "        Y_pred[i]=np.dot(current_W, X[i])\n",
    "        temp = (np.power((Y[i] -Y_pred[i]),2))\n",
    "        square_error += temp \n",
    "    return 0.5*square_error\n",
    "\n",
    "def gradient_descent(X:np.ndarray, Y:np.ndarray,r:float,threshold):\n",
    "\tcosts = []  \n",
    "\tcurrent_W = np.zeros(X.shape[1])\n",
    "\t#print(W.shape)\n",
    "\t#print(r)\n",
    "\n",
    "\tnorm = math.inf\n",
    "\n",
    "\twhile norm > threshold:\n",
    "\t\tupdated_W = np.zeros(X.shape[1])\n",
    "\t\t\n",
    "\t\tfor j in range(len(X[0])):\n",
    "\t\t\ttemp = 0 \n",
    "\t\t\tfor i in range(len(X)):\n",
    "\t\t\t\ttemp += X[i][j] *(Y[i] - np.dot(current_W, X[i]))\n",
    "\t\t\tupdated_W[j] = temp \n",
    "\n",
    "\t\tupdated_W = current_W + r*updated_W\n",
    "\t\t#r=r*0.5\n",
    "\t\tnorm = LA.norm(current_W - updated_W)\n",
    "\t\tcosts.append(mean_square_error(X, Y, current_W))\n",
    "\t\t#r=r*0.5\n",
    "\t\tcurrent_W = updated_W\n",
    "\n",
    "\t#costs.append(mean_square_error(X, Y, W))\n",
    "\treturn current_W, costs\n",
    "\n",
    "def stochastic_gradient_descent(X, Y, r,threshold):\n",
    "\n",
    "\tcurrent_W = np.zeros(X.shape[1])\n",
    "\tnorm = math.inf\n",
    "\tcosts = [mean_square_error(X, Y, current_W)]\n",
    "\twhile norm > threshold:\n",
    "\t\ti = random.randrange(len(X))\n",
    "\t\trunning_w = np.zeros(X.shape[1])\n",
    "\t\tfor j in range(len(X[0])): \n",
    "\t\t\trunning_w[j] = X[i][j] *(Y[i] - np.dot(current_W, X[i]))\n",
    "\t\tupdated_W = current_W + r*running_w\n",
    "\t\tcurrent_W = updated_W\n",
    "\t\tnew_cost = mean_square_error(X, Y, current_W) \n",
    "\t\tnorm = abs(new_cost - costs[-1])\n",
    "\t\tcosts.append(new_cost)\n",
    "\n",
    "\treturn current_W, costs"
   ]
  }
 ],
 "metadata": {
  "kernelspec": {
   "display_name": "Python 3 (ipykernel)",
   "language": "python",
   "name": "python3"
  },
  "language_info": {
   "codemirror_mode": {
    "name": "ipython",
    "version": 3
   },
   "file_extension": ".py",
   "mimetype": "text/x-python",
   "name": "python",
   "nbconvert_exporter": "python",
   "pygments_lexer": "ipython3",
   "version": "3.10.4"
  }
 },
 "nbformat": 4,
 "nbformat_minor": 5
}
